{
 "cells": [
  {
   "cell_type": "code",
   "execution_count": 1,
   "id": "ca40855e-217c-4d17-986b-c15ae007bbc2",
   "metadata": {},
   "outputs": [],
   "source": [
    "from bs4 import BeautifulSoup\n",
    "from colored import Fore, Back, Style\n",
    "import requests\n",
    "\n",
    "# built-in\n",
    "\n",
    "import time\n",
    "import threading\n",
    "import queue\n",
    "import re"
   ]
  },
  {
   "cell_type": "code",
   "execution_count": 3,
   "id": "976b8cdf-b651-4976-8a2b-6bcc97ac813a",
   "metadata": {},
   "outputs": [],
   "source": [
    "q = queue.Queue()\n",
    "valid_proxies = []\n",
    "\n",
    "with open('free_proxies.txt') as f:\n",
    "    proxies = f.read().split('\\n')\n",
    "    for p in proxies:\n",
    "        if not re.search('[a-zA-Z]', p):\n",
    "            q.put(p)\n",
    "\n",
    "IP_INFO_URL = 'https://ipinfo.in/json'\n",
    "\n",
    "def validate_proxies():\n",
    "    global q\n",
    "    while not q.empty():\n",
    "        proxy = q.get()\n",
    "        try:\n",
    "            res = requests.get(IP_INFO_URL,\n",
    "                              proxies={'http':proxy,\n",
    "                                      'https': proxy})\n",
    "        except:\n",
    "            continue\n",
    "        if res.status_code == 200:\n",
    "            print(proxy)\n",
    "\n",
    "for _ in range(10):\n",
    "    threading.Thread(target=validate_proxies)"
   ]
  },
  {
   "cell_type": "code",
   "execution_count": null,
   "id": "11e29d04-6dea-44f2-9355-c2699cb20e69",
   "metadata": {},
   "outputs": [],
   "source": []
  }
 ],
 "metadata": {
  "kernelspec": {
   "display_name": "Python 3 (ipykernel)",
   "language": "python",
   "name": "python3"
  },
  "language_info": {
   "codemirror_mode": {
    "name": "ipython",
    "version": 3
   },
   "file_extension": ".py",
   "mimetype": "text/x-python",
   "name": "python",
   "nbconvert_exporter": "python",
   "pygments_lexer": "ipython3",
   "version": "3.12.0"
  }
 },
 "nbformat": 4,
 "nbformat_minor": 5
}
