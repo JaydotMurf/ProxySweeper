{
 "cells": [
  {
   "cell_type": "code",
   "execution_count": 42,
   "id": "28cd1678-52ea-4c42-9699-62604e1b2892",
   "metadata": {},
   "outputs": [],
   "source": [
    "from bs4 import BeautifulSoup\n",
    "from colored import Fore, Back, Style\n",
    "import pandas as pd\n",
    "import numpy as np\n",
    "import requests\n",
    "from supabase import create_client, Client\n",
    "\n",
    "# built-in\n",
    "import json\n",
    "import time\n",
    "from typing import List, Optional\n",
    "import warnings\n",
    "warnings.filterwarnings('ignore')"
   ]
  },
  {
   "cell_type": "code",
   "execution_count": 43,
   "id": "3c8a7c11-cee5-4b7b-9799-823ad4c113e8",
   "metadata": {},
   "outputs": [],
   "source": [
    "BASE_URL = 'https://fbref.com'\n",
    "table_url = f'{BASE_URL}/en/comps/23/Eredivisie-Stats'"
   ]
  },
  {
   "cell_type": "code",
   "execution_count": 44,
   "id": "d08ff5cf-6c3a-42ce-87f3-48c6f16fc1be",
   "metadata": {},
   "outputs": [
    {
     "name": "stdout",
     "output_type": "stream",
     "text": [
      "\u001b[38;5;3m\u001b[48;5;0m200\u001b[0m\n"
     ]
    }
   ],
   "source": [
    "r = requests.get(table_url)\n",
    "soup = BeautifulSoup(r.text)\n",
    "print(f'{Fore.yellow}{Back.black}{r.status_code}{Style.reset}')"
   ]
  },
  {
   "cell_type": "code",
   "execution_count": 45,
   "id": "62d355bf-a0b0-4ea3-ab6d-1ed8e6866822",
   "metadata": {},
   "outputs": [],
   "source": [
    "element = soup.select(\"table.stats_table\")[0]\n",
    "\n",
    "links = element.find_all('a')\n",
    "links = [l.get('href') for l in links]\n",
    "links = [l for l in links if '/squads/' in l]\n",
    "\n",
    "teams = [f'{BASE_URL}{l}' for l in links]"
   ]
  },
  {
   "cell_type": "code",
   "execution_count": 46,
   "id": "6c2e3140-c34a-455a-9a50-6e5a5a716e3c",
   "metadata": {},
   "outputs": [],
   "source": [
    "team_one = teams[0]"
   ]
  },
  {
   "cell_type": "code",
   "execution_count": 47,
   "id": "d690b817-d1f8-4eca-a453-c983fb4c1852",
   "metadata": {},
   "outputs": [
    {
     "name": "stdout",
     "output_type": "stream",
     "text": [
      "\u001b[38;5;3m\u001b[48;5;0m200\u001b[0m\n"
     ]
    }
   ],
   "source": [
    "scores_url = requests.get(team_one)\n",
    "print(f'{Fore.yellow}{Back.black}{r.status_code}{Style.reset}')"
   ]
  },
  {
   "cell_type": "code",
   "execution_count": 48,
   "id": "a9fbe7cf-f422-44f3-aa8b-73f408d9cb3c",
   "metadata": {},
   "outputs": [],
   "source": [
    "matches = pd.read_html(scores_url.text, match='Scores & Fixtures')[0]"
   ]
  },
  {
   "cell_type": "code",
   "execution_count": null,
   "id": "0f831cf3-3db6-4fd6-935d-10f6d5938076",
   "metadata": {},
   "outputs": [],
   "source": []
  }
 ],
 "metadata": {
  "kernelspec": {
   "display_name": "Python 3 (ipykernel)",
   "language": "python",
   "name": "python3"
  },
  "language_info": {
   "codemirror_mode": {
    "name": "ipython",
    "version": 3
   },
   "file_extension": ".py",
   "mimetype": "text/x-python",
   "name": "python",
   "nbconvert_exporter": "python",
   "pygments_lexer": "ipython3",
   "version": "3.10.11"
  }
 },
 "nbformat": 4,
 "nbformat_minor": 5
}
