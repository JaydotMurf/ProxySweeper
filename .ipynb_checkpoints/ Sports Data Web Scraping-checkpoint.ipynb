{
 "cells": [
  {
   "cell_type": "code",
   "execution_count": 31,
   "id": "28cd1678-52ea-4c42-9699-62604e1b2892",
   "metadata": {},
   "outputs": [],
   "source": [
    "from bs4 import BeautifulSoup\n",
    "from colored import Fore, Back, Style\n",
    "import pandas as pd\n",
    "import numpy as np\n",
    "import requests\n",
    "from supabase import create_client, Client\n",
    "\n",
    "# built-in\n",
    "import json\n",
    "import time\n",
    "from typing import List, Optional\n",
    "import warnings\n",
    "warnings.filterwarnings('ignore')"
   ]
  },
  {
   "cell_type": "markdown",
   "id": "b6914970-0ce3-4cf1-b5aa-d8be54969e28",
   "metadata": {},
   "source": [
    "## Scrap the first page"
   ]
  },
  {
   "cell_type": "code",
   "execution_count": 32,
   "id": "3c8a7c11-cee5-4b7b-9799-823ad4c113e8",
   "metadata": {},
   "outputs": [],
   "source": [
    "BASE_URL = 'https://fbref.com'\n",
    "table_url = f'{BASE_URL}/en/comps/23/Eredivisie-Stats'"
   ]
  },
  {
   "cell_type": "code",
   "execution_count": 33,
   "id": "d08ff5cf-6c3a-42ce-87f3-48c6f16fc1be",
   "metadata": {},
   "outputs": [
    {
     "name": "stdout",
     "output_type": "stream",
     "text": [
      "\u001b[38;5;3m\u001b[48;5;0m200\u001b[0m\n"
     ]
    }
   ],
   "source": [
    "r = requests.get(table_url)\n",
    "print(f'{Fore.yellow}{Back.black}{r.status_code}{Style.reset}')"
   ]
  },
  {
   "cell_type": "code",
   "execution_count": 34,
   "id": "d1c821df-bf71-4445-a027-96d3262908d2",
   "metadata": {},
   "outputs": [],
   "source": [
    "soup = BeautifulSoup(r.text)\n",
    "table = soup.select(\"table.stats_table\")[0]"
   ]
  },
  {
   "cell_type": "markdown",
   "id": "a09d9bef-50fe-45f3-bae0-10a37b2d55cb",
   "metadata": {},
   "source": [
    "## Parse team links"
   ]
  },
  {
   "cell_type": "code",
   "execution_count": 35,
   "id": "62d355bf-a0b0-4ea3-ab6d-1ed8e6866822",
   "metadata": {},
   "outputs": [],
   "source": [
    "links = table.find_all('a')\n",
    "links = [l.get('href') for l in links]\n",
    "links = [l for l in links if '/squads/' in l]\n",
    "\n",
    "teams = [f'{BASE_URL}{l}' for l in links]"
   ]
  },
  {
   "cell_type": "markdown",
   "id": "cdcef34f-7e50-46f3-b654-3258f43a7f14",
   "metadata": {},
   "source": [
    "## Extract Scores & Fixtures"
   ]
  },
  {
   "cell_type": "code",
   "execution_count": 36,
   "id": "6c2e3140-c34a-455a-9a50-6e5a5a716e3c",
   "metadata": {},
   "outputs": [],
   "source": [
    "team_one = teams[0]"
   ]
  },
  {
   "cell_type": "code",
   "execution_count": 37,
   "id": "d690b817-d1f8-4eca-a453-c983fb4c1852",
   "metadata": {},
   "outputs": [
    {
     "name": "stdout",
     "output_type": "stream",
     "text": [
      "\u001b[38;5;3m\u001b[48;5;0m200\u001b[0m\n"
     ]
    }
   ],
   "source": [
    "scores_url = requests.get(team_one)\n",
    "print(f'{Fore.yellow}{Back.black}{r.status_code}{Style.reset}')"
   ]
  },
  {
   "cell_type": "code",
   "execution_count": 38,
   "id": "a9fbe7cf-f422-44f3-aa8b-73f408d9cb3c",
   "metadata": {},
   "outputs": [],
   "source": [
    "matches = pd.read_html(scores_url.text, match='Scores & Fixtures')[0]"
   ]
  },
  {
   "cell_type": "markdown",
   "id": "2b9bc379-71cd-41a6-a0ed-c31d8fcded42",
   "metadata": {},
   "source": [
    "## Get match shooting stats"
   ]
  },
  {
   "cell_type": "code",
   "execution_count": 39,
   "id": "2f366213-00e6-40d7-b7ca-00ceb8995cea",
   "metadata": {},
   "outputs": [],
   "source": [
    "soup = BeautifulSoup(scores_url.text)"
   ]
  },
  {
   "cell_type": "code",
   "execution_count": 40,
   "id": "80eb7d93-89cf-4ea0-85cd-3655f762860d",
   "metadata": {},
   "outputs": [],
   "source": [
    "links = soup.find_all('a')\n",
    "links = [l.get('href') for l in links]\n",
    "links = [l for l in links if l and 'all_comps/shooting' in l][0]"
   ]
  },
  {
   "cell_type": "markdown",
   "id": "341a2033-a504-444f-a9bf-ccecaae60169",
   "metadata": {},
   "source": [
    "## Clean and merge fixture and shooting data"
   ]
  },
  {
   "cell_type": "code",
   "execution_count": null,
   "id": "9f30c9a8-b929-46e3-a0dc-f46f7b1bee3f",
   "metadata": {},
   "outputs": [],
   "source": []
  }
 ],
 "metadata": {
  "kernelspec": {
   "display_name": "Python 3 (ipykernel)",
   "language": "python",
   "name": "python3"
  },
  "language_info": {
   "codemirror_mode": {
    "name": "ipython",
    "version": 3
   },
   "file_extension": ".py",
   "mimetype": "text/x-python",
   "name": "python",
   "nbconvert_exporter": "python",
   "pygments_lexer": "ipython3",
   "version": "3.12.0"
  }
 },
 "nbformat": 4,
 "nbformat_minor": 5
}
