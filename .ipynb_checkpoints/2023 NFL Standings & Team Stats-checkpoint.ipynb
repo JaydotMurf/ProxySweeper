{
 "cells": [
  {
   "cell_type": "code",
   "execution_count": 65,
   "id": "4c7323a4-c9f0-45b9-9237-25048b21ac62",
   "metadata": {},
   "outputs": [],
   "source": [
    "# 3rd Party Libraries\n",
    "from bs4 import BeautifulSoup\n",
    "from colored import Fore, Back, Style\n",
    "from dotenv import load_dotenv\n",
    "import pandas as pd\n",
    "import requests\n",
    "\n",
    "# Built in libraries\n",
    "from time import gmtime, strftime\n",
    "from typing import List, Set, Dict, Tuple, Optional"
   ]
  },
  {
   "cell_type": "code",
   "execution_count": 66,
   "id": "bd34e13c-5c6d-4ebf-b003-e96a8479b234",
   "metadata": {},
   "outputs": [],
   "source": [
    "BASE_URL = 'https://www.pro-football-reference.com'\n",
    "\n",
    "# Complete URL for the 2023 year page\n",
    "standings_stats_url = f\"{BASE_URL}/years/2023/\"\n",
    "\n",
    "response = requests.get(standings_stats_url)\n",
    "\n",
    "# Return status code if request is successful (200)\n",
    "def request_status(url: str) -> bool:\n",
    "    if response.status_code == 200:\n",
    "        return response.status_code\n",
    "    else:\n",
    "        print(f'{Fore.white}{Back.red}False{Style.reset}')\n",
    "        return response.status_code"
   ]
  },
  {
   "cell_type": "code",
   "execution_count": 67,
   "id": "4abe6186-c9dd-4daf-bec4-336c4ca8d6b8",
   "metadata": {},
   "outputs": [],
   "source": [
    "# Function to create a BeautifulSoup object if the request is successful\n",
    "def make_soup(url: str) -> BeautifulSoup:\n",
    "    try:\n",
    "        response = requests.get(url)\n",
    "        if response.status_code == 200:\n",
    "            return BeautifulSoup(response.text, 'html.parser')\n",
    "    except requests.RequestException as e:\n",
    "        print(f\"Error fetching {url}: {e}\")\n",
    "    return None\n",
    "\n",
    "soup = make_soup(standings_stats_url)"
   ]
  },
  {
   "cell_type": "code",
   "execution_count": 68,
   "id": "dabf26ea-6881-4287-8787-43d13cee6c0b",
   "metadata": {},
   "outputs": [],
   "source": [
    "# Function to extract team URLs from a specific division\n",
    "def gather_team_stats(teams: List[str]) -> None:\n",
    "    for t in teams:\n",
    "        soup = make_soup(t)\n",
    "        if soup:\n",
    "            table = soup.find('table', id='team_stats')\n",
    "            if table:\n",
    "                print(table)\n",
    "            else:\n",
    "                print(f\"Table not found in {t}\")\n",
    "        else:\n",
    "            print(f\"Failed to get data for {t}\")\n",
    "\n",
    "afc_teams_urls = get_team_urls('AFC')\n",
    "nfc_teams_urls = get_team_urls('NFC')"
   ]
  },
  {
   "cell_type": "code",
   "execution_count": 69,
   "id": "b9343154-5c4b-4831-ac7a-fe9fe484ead6",
   "metadata": {},
   "outputs": [
    {
     "data": {
      "text/plain": [
       "['https://www.pro-football-reference.com/teams/buf/2023.htm',\n",
       " 'https://www.pro-football-reference.com/teams/mia/2023.htm',\n",
       " 'https://www.pro-football-reference.com/teams/nyj/2023.htm',\n",
       " 'https://www.pro-football-reference.com/teams/nwe/2023.htm',\n",
       " 'https://www.pro-football-reference.com/teams/rav/2023.htm',\n",
       " 'https://www.pro-football-reference.com/teams/cle/2023.htm',\n",
       " 'https://www.pro-football-reference.com/teams/pit/2023.htm',\n",
       " 'https://www.pro-football-reference.com/teams/cin/2023.htm',\n",
       " 'https://www.pro-football-reference.com/teams/htx/2023.htm',\n",
       " 'https://www.pro-football-reference.com/teams/jax/2023.htm',\n",
       " 'https://www.pro-football-reference.com/teams/clt/2023.htm',\n",
       " 'https://www.pro-football-reference.com/teams/oti/2023.htm',\n",
       " 'https://www.pro-football-reference.com/teams/kan/2023.htm',\n",
       " 'https://www.pro-football-reference.com/teams/rai/2023.htm',\n",
       " 'https://www.pro-football-reference.com/teams/den/2023.htm',\n",
       " 'https://www.pro-football-reference.com/teams/sdg/2023.htm']"
      ]
     },
     "execution_count": 69,
     "metadata": {},
     "output_type": "execute_result"
    }
   ],
   "source": [
    "afc_teams_urls"
   ]
  },
  {
   "cell_type": "markdown",
   "id": "47dd7ed1-1c3a-4906-a33b-d27ac798df43",
   "metadata": {},
   "source": [
    "## Not returning proper data frame"
   ]
  },
  {
   "cell_type": "code",
   "execution_count": 80,
   "id": "383ef3c6-f608-4c36-8081-9834dd246b93",
   "metadata": {},
   "outputs": [],
   "source": [
    "def gather_team_stats(teams: List[str]) -> None:\n",
    "    for t in teams:\n",
    "        soup = make_soup(t)\n",
    "        if soup:\n",
    "            table = soup.find('table', id='team_stats')\n",
    "            if table:\n",
    "                # Convert the table HTML to a DataFrame\n",
    "                stats_df = pd.read_html(str(table), index_col=0)[0]  # [0] because pd.read_html returns a list of DataFrames\n",
    "                print(stats_df)\n",
    "            else:\n",
    "                print(f\"Table not found in {t}\")\n",
    "        else:\n",
    "            print(f\"Failed to get data for {t}\")"
   ]
  },
  {
   "cell_type": "code",
   "execution_count": 81,
   "id": "8bc3a58e-0a21-4a41-a489-3bcf907c5c3b",
   "metadata": {},
   "outputs": [
    {
     "name": "stdout",
     "output_type": "stream",
     "text": [
      "                Unnamed: 1_level_0 Unnamed: 2_level_0 Tot Yds & TO           \\\n",
      "Player                          PF                Yds          Ply  Y/P  TO   \n",
      "Team Stats                     451               6366       1115.0  5.7  28   \n",
      "Opp. Stats                     311               5222       1015.0  5.1  30   \n",
      "Lg Rank Offense                  6                  4          NaN  NaN  23   \n",
      "Lg Rank Defense                  4                  9          NaN  NaN   3   \n",
      "\n",
      "                Unnamed: 6_level_0 Unnamed: 7_level_0 Passing             ...  \\\n",
      "Player                          FL               1stD     Cmp  Att   Yds  ...   \n",
      "Team Stats                      10                381   385.0  579  4154  ...   \n",
      "Opp. Stats                      12                313   363.0  552  3342  ...   \n",
      "Lg Rank Offense                 16                  3     NaN   16     8  ...   \n",
      "Lg Rank Defense                  5                 11     NaN    8     7  ...   \n",
      "\n",
      "                Penalties       Unnamed: 23_level_0 Unnamed: 24_level_0  \\\n",
      "Player                Yds 1stPy                 #Dr                 Sc%   \n",
      "Team Stats          883.0  24.0               181.0                41.4   \n",
      "Opp. Stats          753.0  34.0               181.0                32.0   \n",
      "Lg Rank Offense       NaN   NaN                 NaN                 6.0   \n",
      "Lg Rank Defense       NaN   NaN                 NaN                26.0   \n",
      "\n",
      "                Unnamed: 25_level_0 Average Drive                           \n",
      "Player                          TO%         Start  Time  Plays   Yds   Pts  \n",
      "Team Stats                     14.9      Own 29.0  3:01   6.32  35.1  2.37  \n",
      "Opp. Stats                     16.0      Own 27.1  2:40   5.80  28.8  1.67  \n",
      "Lg Rank Offense                10.0            13     3   6.00   6.0  6.00  \n",
      "Lg Rank Defense                 2.0             6    12  11.00  11.0  7.00  \n",
      "\n",
      "[4 rows x 30 columns]\n"
     ]
    },
    {
     "name": "stderr",
     "output_type": "stream",
     "text": [
      "C:\\Users\\Jerra\\AppData\\Local\\Temp\\ipykernel_17664\\3026374890.py:8: FutureWarning: Passing literal html to 'read_html' is deprecated and will be removed in a future version. To read from a literal string, wrap it in a 'StringIO' object.\n",
      "  stats_df = pd.read_html(str(table), index_col=0)[0]  # [0] because pd.read_html returns a list of DataFrames\n"
     ]
    }
   ],
   "source": [
    "afc_team_stats = gather_team_stats(afc_teams_urls[:1])"
   ]
  },
  {
   "cell_type": "code",
   "execution_count": null,
   "id": "edc6a126-34e8-417c-badb-e95e195a9658",
   "metadata": {},
   "outputs": [],
   "source": []
  }
 ],
 "metadata": {
  "kernelspec": {
   "display_name": "Python 3 (ipykernel)",
   "language": "python",
   "name": "python3"
  },
  "language_info": {
   "codemirror_mode": {
    "name": "ipython",
    "version": 3
   },
   "file_extension": ".py",
   "mimetype": "text/x-python",
   "name": "python",
   "nbconvert_exporter": "python",
   "pygments_lexer": "ipython3",
   "version": "3.12.1"
  }
 },
 "nbformat": 4,
 "nbformat_minor": 5
}
