{
 "cells": [
  {
   "cell_type": "code",
   "execution_count": 13,
   "id": "190af692-7d13-435f-babb-4de1a610e4bc",
   "metadata": {},
   "outputs": [
    {
     "name": "stdout",
     "output_type": "stream",
     "text": [
      "Requirement already satisfied: python-dotenv in c:\\programdata\\miniconda3\\envs\\webscrape\\lib\\site-packages (1.0.0)\n",
      "Requirement already satisfied: html5lib in c:\\programdata\\miniconda3\\envs\\webscrape\\lib\\site-packages (1.1)\n",
      "Requirement already satisfied: six>=1.9 in c:\\programdata\\miniconda3\\envs\\webscrape\\lib\\site-packages (from html5lib) (1.16.0)\n",
      "Requirement already satisfied: webencodings in c:\\programdata\\miniconda3\\envs\\webscrape\\lib\\site-packages (from html5lib) (0.5.1)\n"
     ]
    }
   ],
   "source": [
    "!pip install python-dotenv\n",
    "!pip install html5lib"
   ]
  },
  {
   "cell_type": "code",
   "execution_count": 14,
   "id": "4c7323a4-c9f0-45b9-9237-25048b21ac62",
   "metadata": {},
   "outputs": [],
   "source": [
    "# 3rd Party Libraries\n",
    "from bs4 import BeautifulSoup\n",
    "from colored import Fore, Back, Style\n",
    "from dotenv import load_dotenv\n",
    "import pandas as pd\n",
    "import requests\n",
    "\n",
    "# Built in libraries\n",
    "from time import gmtime, strftime\n",
    "from typing import List, Set, Dict, Tuple, Optional"
   ]
  },
  {
   "cell_type": "code",
   "execution_count": 15,
   "id": "bd34e13c-5c6d-4ebf-b003-e96a8479b234",
   "metadata": {},
   "outputs": [],
   "source": [
    "BASE_URL = 'https://www.pro-football-reference.com'\n",
    "\n",
    "# Complete URL for the 2023 year page\n",
    "standings_stats_url = f\"{BASE_URL}/years/2023/\"\n",
    "\n",
    "response = requests.get(standings_stats_url)\n",
    "\n",
    "# Return status code if request is successful (200)\n",
    "def request_status(url: str) -> bool:\n",
    "    if response.status_code == 200:\n",
    "        return response.status_code\n",
    "    else:\n",
    "        print(f'{Fore.white}{Back.red}False{Style.reset}')\n",
    "        return response.status_code"
   ]
  },
  {
   "cell_type": "code",
   "execution_count": 16,
   "id": "4abe6186-c9dd-4daf-bec4-336c4ca8d6b8",
   "metadata": {},
   "outputs": [],
   "source": [
    "# Function to create a BeautifulSoup object if the request is successful\n",
    "def make_soup(url: str) -> BeautifulSoup:\n",
    "    try:\n",
    "        response = requests.get(url)\n",
    "        if response.status_code == 200:\n",
    "            return BeautifulSoup(response.text, 'html.parser')\n",
    "    except requests.RequestException as e:\n",
    "        print(f\"Error fetching {url}: {e}\")\n",
    "    return None\n",
    "\n",
    "soup = make_soup(standings_stats_url)"
   ]
  },
  {
   "cell_type": "code",
   "execution_count": 17,
   "id": "dabf26ea-6881-4287-8787-43d13cee6c0b",
   "metadata": {},
   "outputs": [],
   "source": [
    "# Function to extract team URLs from a specific division\n",
    "def get_team_urls(division_id):\n",
    "    # Select all anchor tags within the division's section\n",
    "    teams = soup.select(f\"#{division_id} a\")\n",
    "    # Construct full URLs for each team and return as a list\n",
    "    return [f\"{BASE_URL}{l.get('href')}\" for l in teams]\n",
    "    \n",
    "afc_teams_urls = get_team_urls('AFC')\n",
    "nfc_teams_urls = get_team_urls('NFC')"
   ]
  },
  {
   "cell_type": "code",
   "execution_count": 18,
   "id": "b9343154-5c4b-4831-ac7a-fe9fe484ead6",
   "metadata": {},
   "outputs": [
    {
     "data": {
      "text/plain": [
       "['https://www.pro-football-reference.com/teams/buf/2023.htm',\n",
       " 'https://www.pro-football-reference.com/teams/mia/2023.htm',\n",
       " 'https://www.pro-football-reference.com/teams/nyj/2023.htm',\n",
       " 'https://www.pro-football-reference.com/teams/nwe/2023.htm',\n",
       " 'https://www.pro-football-reference.com/teams/rav/2023.htm',\n",
       " 'https://www.pro-football-reference.com/teams/cle/2023.htm',\n",
       " 'https://www.pro-football-reference.com/teams/pit/2023.htm',\n",
       " 'https://www.pro-football-reference.com/teams/cin/2023.htm',\n",
       " 'https://www.pro-football-reference.com/teams/htx/2023.htm',\n",
       " 'https://www.pro-football-reference.com/teams/jax/2023.htm',\n",
       " 'https://www.pro-football-reference.com/teams/clt/2023.htm',\n",
       " 'https://www.pro-football-reference.com/teams/oti/2023.htm',\n",
       " 'https://www.pro-football-reference.com/teams/kan/2023.htm',\n",
       " 'https://www.pro-football-reference.com/teams/rai/2023.htm',\n",
       " 'https://www.pro-football-reference.com/teams/den/2023.htm',\n",
       " 'https://www.pro-football-reference.com/teams/sdg/2023.htm']"
      ]
     },
     "execution_count": 18,
     "metadata": {},
     "output_type": "execute_result"
    }
   ],
   "source": [
    "afc_teams_urls"
   ]
  },
  {
   "cell_type": "code",
   "execution_count": 50,
   "id": "383ef3c6-f608-4c36-8081-9834dd246b93",
   "metadata": {
    "scrolled": true
   },
   "outputs": [
    {
     "name": "stderr",
     "output_type": "stream",
     "text": [
      "C:\\Temp\\ipykernel_7520\\461826119.py:8: FutureWarning: Passing literal html to 'read_html' is deprecated and will be removed in a future version. To read from a literal string, wrap it in a 'StringIO' object.\n",
      "  stats_df = pd.read_html(str(table))[0]  # [0] because pd.read_html returns a list of DataFrames\n"
     ]
    }
   ],
   "source": [
    "def gather_team_stats(teams: List[str]) -> None:\n",
    "    for t in teams:\n",
    "        soup = make_soup(t)\n",
    "        if soup:\n",
    "            table = soup.find('table', id='team_stats')\n",
    "            if table:\n",
    "                # Convert the table HTML to a DataFrame\n",
    "                stats_df = pd.read_html(str(table))[0]  # [0] because pd.read_html returns a list of DataFrames\n",
    "                return stats_df\n",
    "            else:\n",
    "                print(f\"Table not found in {t}\")\n",
    "        else:\n",
    "            print(f\"Failed to get data for {t}\")\n",
    "\n",
    "afc_team_stats_df = gather_team_stats(afc_teams_urls[:1])"
   ]
  },
  {
   "cell_type": "code",
   "execution_count": 51,
   "id": "edc6a126-34e8-417c-badb-e95e195a9658",
   "metadata": {},
   "outputs": [
    {
     "data": {
      "text/html": [
       "<div>\n",
       "<style scoped>\n",
       "    .dataframe tbody tr th:only-of-type {\n",
       "        vertical-align: middle;\n",
       "    }\n",
       "\n",
       "    .dataframe tbody tr th {\n",
       "        vertical-align: top;\n",
       "    }\n",
       "\n",
       "    .dataframe thead tr th {\n",
       "        text-align: left;\n",
       "    }\n",
       "</style>\n",
       "<table border=\"1\" class=\"dataframe\">\n",
       "  <thead>\n",
       "    <tr>\n",
       "      <th></th>\n",
       "      <th>Unnamed: 0_level_0</th>\n",
       "      <th>Unnamed: 1_level_0</th>\n",
       "      <th>Unnamed: 2_level_0</th>\n",
       "      <th colspan=\"3\" halign=\"left\">Tot Yds &amp; TO</th>\n",
       "      <th>Unnamed: 6_level_0</th>\n",
       "      <th>Unnamed: 7_level_0</th>\n",
       "      <th colspan=\"2\" halign=\"left\">Passing</th>\n",
       "      <th>...</th>\n",
       "      <th colspan=\"2\" halign=\"left\">Penalties</th>\n",
       "      <th>Unnamed: 23_level_0</th>\n",
       "      <th>Unnamed: 24_level_0</th>\n",
       "      <th>Unnamed: 25_level_0</th>\n",
       "      <th colspan=\"5\" halign=\"left\">Average Drive</th>\n",
       "    </tr>\n",
       "    <tr>\n",
       "      <th></th>\n",
       "      <th>Player</th>\n",
       "      <th>PF</th>\n",
       "      <th>Yds</th>\n",
       "      <th>Ply</th>\n",
       "      <th>Y/P</th>\n",
       "      <th>TO</th>\n",
       "      <th>FL</th>\n",
       "      <th>1stD</th>\n",
       "      <th>Cmp</th>\n",
       "      <th>Att</th>\n",
       "      <th>...</th>\n",
       "      <th>Yds</th>\n",
       "      <th>1stPy</th>\n",
       "      <th>#Dr</th>\n",
       "      <th>Sc%</th>\n",
       "      <th>TO%</th>\n",
       "      <th>Start</th>\n",
       "      <th>Time</th>\n",
       "      <th>Plays</th>\n",
       "      <th>Yds</th>\n",
       "      <th>Pts</th>\n",
       "    </tr>\n",
       "  </thead>\n",
       "  <tbody>\n",
       "    <tr>\n",
       "      <th>0</th>\n",
       "      <td>Team Stats</td>\n",
       "      <td>451</td>\n",
       "      <td>6366</td>\n",
       "      <td>1115.0</td>\n",
       "      <td>5.7</td>\n",
       "      <td>28</td>\n",
       "      <td>10</td>\n",
       "      <td>381</td>\n",
       "      <td>385.0</td>\n",
       "      <td>579</td>\n",
       "      <td>...</td>\n",
       "      <td>883.0</td>\n",
       "      <td>24.0</td>\n",
       "      <td>181.0</td>\n",
       "      <td>41.4</td>\n",
       "      <td>14.9</td>\n",
       "      <td>Own 29.0</td>\n",
       "      <td>3:01</td>\n",
       "      <td>6.32</td>\n",
       "      <td>35.1</td>\n",
       "      <td>2.37</td>\n",
       "    </tr>\n",
       "    <tr>\n",
       "      <th>1</th>\n",
       "      <td>Opp. Stats</td>\n",
       "      <td>311</td>\n",
       "      <td>5222</td>\n",
       "      <td>1015.0</td>\n",
       "      <td>5.1</td>\n",
       "      <td>30</td>\n",
       "      <td>12</td>\n",
       "      <td>313</td>\n",
       "      <td>363.0</td>\n",
       "      <td>552</td>\n",
       "      <td>...</td>\n",
       "      <td>753.0</td>\n",
       "      <td>34.0</td>\n",
       "      <td>181.0</td>\n",
       "      <td>32.0</td>\n",
       "      <td>16.0</td>\n",
       "      <td>Own 27.1</td>\n",
       "      <td>2:40</td>\n",
       "      <td>5.80</td>\n",
       "      <td>28.8</td>\n",
       "      <td>1.67</td>\n",
       "    </tr>\n",
       "    <tr>\n",
       "      <th>2</th>\n",
       "      <td>Lg Rank Offense</td>\n",
       "      <td>6</td>\n",
       "      <td>4</td>\n",
       "      <td>NaN</td>\n",
       "      <td>NaN</td>\n",
       "      <td>23</td>\n",
       "      <td>16</td>\n",
       "      <td>3</td>\n",
       "      <td>NaN</td>\n",
       "      <td>16</td>\n",
       "      <td>...</td>\n",
       "      <td>NaN</td>\n",
       "      <td>NaN</td>\n",
       "      <td>NaN</td>\n",
       "      <td>6.0</td>\n",
       "      <td>10.0</td>\n",
       "      <td>13</td>\n",
       "      <td>3</td>\n",
       "      <td>6.00</td>\n",
       "      <td>6.0</td>\n",
       "      <td>6.00</td>\n",
       "    </tr>\n",
       "    <tr>\n",
       "      <th>3</th>\n",
       "      <td>Lg Rank Defense</td>\n",
       "      <td>4</td>\n",
       "      <td>9</td>\n",
       "      <td>NaN</td>\n",
       "      <td>NaN</td>\n",
       "      <td>3</td>\n",
       "      <td>5</td>\n",
       "      <td>11</td>\n",
       "      <td>NaN</td>\n",
       "      <td>8</td>\n",
       "      <td>...</td>\n",
       "      <td>NaN</td>\n",
       "      <td>NaN</td>\n",
       "      <td>NaN</td>\n",
       "      <td>26.0</td>\n",
       "      <td>2.0</td>\n",
       "      <td>6</td>\n",
       "      <td>12</td>\n",
       "      <td>11.00</td>\n",
       "      <td>11.0</td>\n",
       "      <td>7.00</td>\n",
       "    </tr>\n",
       "  </tbody>\n",
       "</table>\n",
       "<p>4 rows × 31 columns</p>\n",
       "</div>"
      ],
      "text/plain": [
       "  Unnamed: 0_level_0 Unnamed: 1_level_0 Unnamed: 2_level_0 Tot Yds & TO       \\\n",
       "              Player                 PF                Yds          Ply  Y/P   \n",
       "0         Team Stats                451               6366       1115.0  5.7   \n",
       "1         Opp. Stats                311               5222       1015.0  5.1   \n",
       "2    Lg Rank Offense                  6                  4          NaN  NaN   \n",
       "3    Lg Rank Defense                  4                  9          NaN  NaN   \n",
       "\n",
       "      Unnamed: 6_level_0 Unnamed: 7_level_0 Passing       ... Penalties        \\\n",
       "   TO                 FL               1stD     Cmp  Att  ...       Yds 1stPy   \n",
       "0  28                 10                381   385.0  579  ...     883.0  24.0   \n",
       "1  30                 12                313   363.0  552  ...     753.0  34.0   \n",
       "2  23                 16                  3     NaN   16  ...       NaN   NaN   \n",
       "3   3                  5                 11     NaN    8  ...       NaN   NaN   \n",
       "\n",
       "  Unnamed: 23_level_0 Unnamed: 24_level_0 Unnamed: 25_level_0 Average Drive  \\\n",
       "                  #Dr                 Sc%                 TO%         Start   \n",
       "0               181.0                41.4                14.9      Own 29.0   \n",
       "1               181.0                32.0                16.0      Own 27.1   \n",
       "2                 NaN                 6.0                10.0            13   \n",
       "3                 NaN                26.0                 2.0             6   \n",
       "\n",
       "                            \n",
       "   Time  Plays   Yds   Pts  \n",
       "0  3:01   6.32  35.1  2.37  \n",
       "1  2:40   5.80  28.8  1.67  \n",
       "2     3   6.00   6.0  6.00  \n",
       "3    12  11.00  11.0  7.00  \n",
       "\n",
       "[4 rows x 31 columns]"
      ]
     },
     "execution_count": 51,
     "metadata": {},
     "output_type": "execute_result"
    }
   ],
   "source": [
    "afc_team_stats_df"
   ]
  },
  {
   "cell_type": "code",
   "execution_count": 52,
   "id": "bde5bbd9-f7ca-47e4-9153-a062059b03d4",
   "metadata": {},
   "outputs": [],
   "source": [
    "def flatten_columns(df: pd.DataFrame) -> pd.DataFrame:\n",
    "    if isinstance(df.columns, pd.MultiIndex):\n",
    "        df.columns = [' '.join(col).strip() for col in df.columns.values]\n",
    "    return df\n",
    "\n",
    "afc_team_stats_df = flatten_columns(afc_team_stats_df)"
   ]
  },
  {
   "cell_type": "code",
   "execution_count": 54,
   "id": "68885fdd-b320-4084-bdf3-9b86cdf3779f",
   "metadata": {},
   "outputs": [
    {
     "data": {
      "text/plain": [
       "Index(['Unnamed: 0_level_0 Player', 'Unnamed: 1_level_0 PF',\n",
       "       'Unnamed: 2_level_0 Yds', 'Tot Yds & TO Ply', 'Tot Yds & TO Y/P',\n",
       "       'Tot Yds & TO TO', 'Unnamed: 6_level_0 FL', 'Unnamed: 7_level_0 1stD',\n",
       "       'Passing Cmp', 'Passing Att', 'Passing Yds', 'Passing TD',\n",
       "       'Passing Int', 'Passing NY/A', 'Passing 1stD', 'Rushing Att',\n",
       "       'Rushing Yds', 'Rushing TD', 'Rushing Y/A', 'Rushing 1stD',\n",
       "       'Penalties Pen', 'Penalties Yds', 'Penalties 1stPy',\n",
       "       'Unnamed: 23_level_0 #Dr', 'Unnamed: 24_level_0 Sc%',\n",
       "       'Unnamed: 25_level_0 TO%', 'Average Drive Start', 'Average Drive Time',\n",
       "       'Average Drive Plays', 'Average Drive Yds', 'Average Drive Pts'],\n",
       "      dtype='object')"
      ]
     },
     "execution_count": 54,
     "metadata": {},
     "output_type": "execute_result"
    }
   ],
   "source": [
    "afc_team_stats_df.columns"
   ]
  },
  {
   "cell_type": "code",
   "execution_count": 55,
   "id": "8c06b2a7-935b-4ddf-8484-4ddd0fe1e787",
   "metadata": {},
   "outputs": [],
   "source": [
    "afc_team_stats_df['p_n_a'] = afc_team_stats_df['Passing NY/A']"
   ]
  },
  {
   "cell_type": "code",
   "execution_count": 56,
   "id": "8f047acf-7ebb-4d8c-8947-88e4773386b4",
   "metadata": {},
   "outputs": [
    {
     "data": {
      "text/plain": [
       "Index(['Unnamed: 0_level_0 Player', 'Unnamed: 1_level_0 PF',\n",
       "       'Unnamed: 2_level_0 Yds', 'Tot Yds & TO Ply', 'Tot Yds & TO Y/P',\n",
       "       'Tot Yds & TO TO', 'Unnamed: 6_level_0 FL', 'Unnamed: 7_level_0 1stD',\n",
       "       'Passing Cmp', 'Passing Att', 'Passing Yds', 'Passing TD',\n",
       "       'Passing Int', 'Passing NY/A', 'Passing 1stD', 'Rushing Att',\n",
       "       'Rushing Yds', 'Rushing TD', 'Rushing Y/A', 'Rushing 1stD',\n",
       "       'Penalties Pen', 'Penalties Yds', 'Penalties 1stPy',\n",
       "       'Unnamed: 23_level_0 #Dr', 'Unnamed: 24_level_0 Sc%',\n",
       "       'Unnamed: 25_level_0 TO%', 'Average Drive Start', 'Average Drive Time',\n",
       "       'Average Drive Plays', 'Average Drive Yds', 'Average Drive Pts',\n",
       "       'p_n_a'],\n",
       "      dtype='object')"
      ]
     },
     "execution_count": 56,
     "metadata": {},
     "output_type": "execute_result"
    }
   ],
   "source": [
    "afc_team_stats_df.columns"
   ]
  },
  {
   "cell_type": "code",
   "execution_count": null,
   "id": "274de1a8-cfa0-4c1b-81fd-97c3b5ec0318",
   "metadata": {},
   "outputs": [],
   "source": []
  }
 ],
 "metadata": {
  "kernelspec": {
   "display_name": "Python 3 (ipykernel)",
   "language": "python",
   "name": "python3"
  },
  "language_info": {
   "codemirror_mode": {
    "name": "ipython",
    "version": 3
   },
   "file_extension": ".py",
   "mimetype": "text/x-python",
   "name": "python",
   "nbconvert_exporter": "python",
   "pygments_lexer": "ipython3",
   "version": "3.12.0"
  }
 },
 "nbformat": 4,
 "nbformat_minor": 5
}
